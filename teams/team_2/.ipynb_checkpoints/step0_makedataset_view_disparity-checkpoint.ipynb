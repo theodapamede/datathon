{
 "cells": [
  {
   "cell_type": "code",
   "execution_count": 157,
   "id": "60513024-229f-4dea-b3f5-e415b724b440",
   "metadata": {},
   "outputs": [],
   "source": [
    "import pandas as pd\n",
    "from glob import glob "
   ]
  },
  {
   "cell_type": "code",
   "execution_count": 267,
   "id": "fcf563b9-fe58-4e0a-940c-916c8cc3d855",
   "metadata": {},
   "outputs": [],
   "source": [
    "#Part 1 cohort selection "
   ]
  },
  {
   "cell_type": "code",
   "execution_count": 158,
   "id": "87d2e2d7-96f4-4e80-9b58-95a51e4be175",
   "metadata": {},
   "outputs": [],
   "source": [
    "mag_view  = pd.read_csv(\"/embed/tables/embed_datathon_magview_full.csv\",dtype='str') \n",
    "mag_view = mag_view[mag_view['asses'].isin(['N','B','A'])].copy() # get the studies of interest \n",
    "meta = pd.read_csv(\"/embed/tables/embed_datathon_metadata_reduced.csv\",dtype='str')\n",
    "meta = meta[meta['acc_anon'].isin(mag_view['acc_anon'].unique())].copy()"
   ]
  },
  {
   "cell_type": "code",
   "execution_count": 268,
   "id": "96cde965-b01f-4b26-8b22-db9d3e41fd23",
   "metadata": {},
   "outputs": [],
   "source": [
    "meta = meta[meta['FinalImageType']=='2D'] #eliminate c-view images "
   ]
  },
  {
   "cell_type": "code",
   "execution_count": 276,
   "id": "78a7b0de-7559-4883-a32d-73a2e1607852",
   "metadata": {},
   "outputs": [],
   "source": [
    "#merge the magview and the metadata \n",
    "combi = pd.merge(meta,mag_view,left_on=['acc_anon','ImageLateralityFinal'],right_on=['acc_anon','side'])"
   ]
  },
  {
   "cell_type": "code",
   "execution_count": 277,
   "id": "e573aef4-afa3-4d16-9fe1-9f476a3fc2f5",
   "metadata": {},
   "outputs": [],
   "source": [
    "combi = combi.drop_duplicates(subset=['png_path'])# ensure we  don't have duplicates after merger "
   ]
  },
  {
   "cell_type": "code",
   "execution_count": 278,
   "id": "57d9c816-42a9-4a73-9b51-d05a759f020b",
   "metadata": {},
   "outputs": [],
   "source": [
    "combi = combi[combi['StudyDescription'].str.contains('Screen')]"
   ]
  },
  {
   "cell_type": "code",
   "execution_count": 279,
   "id": "f19ac32c-6017-4fcd-b3b9-b822a7fea0ed",
   "metadata": {},
   "outputs": [],
   "source": [
    "#split cohorts by asesment of findings \n",
    "acc_only = combi.drop_duplicates(subset='acc_anon')"
   ]
  },
  {
   "cell_type": "code",
   "execution_count": 273,
   "id": "0f264dcf-901b-4719-9661-bfd9230d049f",
   "metadata": {},
   "outputs": [],
   "source": [
    "birads0 = acc_only[acc_only['asses']=='A'].sample(5000,random_state=1996).copy()\n",
    "birads1 = acc_only[acc_only['asses']=='B'].sample(2000,random_state=1996).copy()\n",
    "birads2 = acc_only[acc_only['asses']=='N'].sample(2000,random_state=1996).copy()"
   ]
  },
  {
   "cell_type": "code",
   "execution_count": 280,
   "id": "f012dde3-1be1-4c98-bd18-8b4b8c863b41",
   "metadata": {},
   "outputs": [],
   "source": [
    "final_acc =  pd.concat([birads0,birads1,birads2])"
   ]
  },
  {
   "cell_type": "code",
   "execution_count": 275,
   "id": "46bdb7d2-384a-43a0-9356-3173ac118450",
   "metadata": {},
   "outputs": [],
   "source": [
    "final_combi = combi[combi['acc_anon'].isin(final_acc['acc_anon'])].copy()"
   ]
  },
  {
   "cell_type": "code",
   "execution_count": 69,
   "id": "51fb94a9-a88a-4c36-ac95-718f42945b54",
   "metadata": {},
   "outputs": [],
   "source": [
    "final_combi['view_combination'] = final_combi['ImageLateralityFinal'] + final_combi['ViewPosition']"
   ]
  },
  {
   "cell_type": "code",
   "execution_count": 70,
   "id": "56b22774-c671-4b7b-a954-db18e1701bdd",
   "metadata": {},
   "outputs": [],
   "source": [
    "final_combi = final_combi.drop_duplicates(subset=['acc_anon','view_combination'])"
   ]
  },
  {
   "cell_type": "code",
   "execution_count": 73,
   "id": "0d422ba9-c068-4ed0-8598-1c2252d682ae",
   "metadata": {},
   "outputs": [
    {
     "data": {
      "text/plain": [
       "(20251, 141)"
      ]
     },
     "execution_count": 73,
     "metadata": {},
     "output_type": "execute_result"
    }
   ],
   "source": [
    "final_combi.shape"
   ]
  },
  {
   "cell_type": "code",
   "execution_count": 78,
   "id": "7a58ad9e-b7b5-494c-a5fc-8074fdff960e",
   "metadata": {},
   "outputs": [],
   "source": [
    "final_combi.to_csv('./final_infer_meta.csv',index=False)"
   ]
  },
  {
   "cell_type": "code",
   "execution_count": 166,
   "id": "a7ed6a75-f323-4106-b3bc-dc070af963af",
   "metadata": {},
   "outputs": [],
   "source": [
    "final_combi = pd.read_csv('./final_infer_meta.csv',dtype='str')"
   ]
  },
  {
   "cell_type": "code",
   "execution_count": 167,
   "id": "b8e9228d-bd08-45a8-a258-d7bfd37622d6",
   "metadata": {},
   "outputs": [],
   "source": [
    "#had to restart testing so this basically makes another csv for the remaining cases. \n",
    "infered = pd.concat([pd.read_csv(e,dtype='str') for e in glob('/shared/covnext_run2/*.csv')])"
   ]
  },
  {
   "cell_type": "code",
   "execution_count": 281,
   "id": "15861e2d-feff-487d-a8c9-97d92cfe1e55",
   "metadata": {},
   "outputs": [],
   "source": [
    "missing = final_combi[~final_combi['png_path'].isin(infered['png_path'])]"
   ]
  },
  {
   "cell_type": "code",
   "execution_count": 172,
   "id": "be4b1f3d-3dc4-49fc-a2e7-5294fb65bba4",
   "metadata": {},
   "outputs": [],
   "source": [
    "missing.to_csv('./final_infer_meta_run2.csv',index=False)"
   ]
  },
  {
   "cell_type": "code",
   "execution_count": 170,
   "id": "d2671361-5755-4902-8e28-d531ac04050f",
   "metadata": {},
   "outputs": [
    {
     "data": {
      "text/plain": [
       "(20251, 141)"
      ]
     },
     "execution_count": 170,
     "metadata": {},
     "output_type": "execute_result"
    }
   ],
   "source": [
    "final_combi.shape"
   ]
  },
  {
   "cell_type": "code",
   "execution_count": 171,
   "id": "bd0ce762-4ec4-43cf-ad77-e1a63156dff2",
   "metadata": {},
   "outputs": [
    {
     "data": {
      "text/plain": [
       "(13001, 142)"
      ]
     },
     "execution_count": 171,
     "metadata": {},
     "output_type": "execute_result"
    }
   ],
   "source": [
    "infered.shape"
   ]
  },
  {
   "cell_type": "code",
   "execution_count": null,
   "id": "620dacff-7074-43d2-bf1b-394330d00729",
   "metadata": {},
   "outputs": [],
   "source": []
  },
  {
   "cell_type": "code",
   "execution_count": 2,
   "id": "2c463373-b0a9-4125-b8e4-286defab544f",
   "metadata": {},
   "outputs": [
    {
     "name": "stdout",
     "output_type": "stream",
     "text": [
      "predicted_batch_0.csv  predicted_batch_2.csv\n",
      "predicted_batch_1.csv  predicted_batch_3.csv\n"
     ]
    }
   ],
   "source": [
    "!ls /shared/covnext_run2"
   ]
  },
  {
   "cell_type": "code",
   "execution_count": 118,
   "id": "f5b81afc-e2bf-4c51-8b1f-5351896ec18f",
   "metadata": {},
   "outputs": [],
   "source": [
    "import pandas as pd\n",
    "from glob import glob "
   ]
  },
  {
   "cell_type": "code",
   "execution_count": 142,
   "id": "f5cf0422-4295-4ddf-9bbb-a5abb20853fc",
   "metadata": {},
   "outputs": [],
   "source": [
    "# viewing model predictions \n",
    "\n",
    "sample = pd.concat([pd.read_csv(e) for e in  glob(\"/shared/covnext_run2/*.csv\") ])"
   ]
  },
  {
   "cell_type": "code",
   "execution_count": 143,
   "id": "d63aca41-36cc-44ef-a09a-91e3b4388d57",
   "metadata": {},
   "outputs": [],
   "source": [
    "sample = sample[sample['asses']=='A']"
   ]
  },
  {
   "cell_type": "code",
   "execution_count": 144,
   "id": "022e4163-08f3-4fff-910b-0281a01e1f70",
   "metadata": {},
   "outputs": [
    {
     "data": {
      "text/plain": [
       "(6931, 142)"
      ]
     },
     "execution_count": 144,
     "metadata": {},
     "output_type": "execute_result"
    }
   ],
   "source": [
    "sample.shape"
   ]
  },
  {
   "cell_type": "code",
   "execution_count": 145,
   "id": "27b10d38-87af-4b40-ba27-9001c7bf0166",
   "metadata": {},
   "outputs": [],
   "source": [
    "#sample = sample[sample['path_severity'].isin([0,1])]"
   ]
  },
  {
   "cell_type": "code",
   "execution_count": 146,
   "id": "0258760b-9416-403c-b5d9-43ffcff7097e",
   "metadata": {},
   "outputs": [
    {
     "data": {
      "text/plain": [
       "(6931, 142)"
      ]
     },
     "execution_count": 146,
     "metadata": {},
     "output_type": "execute_result"
    }
   ],
   "source": [
    "sample.shape"
   ]
  },
  {
   "cell_type": "code",
   "execution_count": 147,
   "id": "a5aa49af-1921-4b34-b4ce-377042c59021",
   "metadata": {},
   "outputs": [],
   "source": [
    "sample = sample[sample['side']==sample['ImageLateralityFinal']]\n",
    "sample['cancer_pred'] = (sample['score']>=0.31).astype(int)"
   ]
  },
  {
   "cell_type": "code",
   "execution_count": 148,
   "id": "ba7505b3-08bb-411d-8044-9951ea47d757",
   "metadata": {},
   "outputs": [],
   "source": [
    "sample = sample.sort_values(by=['acc_anon','cancer_pred'],ascending=False)"
   ]
  },
  {
   "cell_type": "code",
   "execution_count": 149,
   "id": "42d52955-0e37-4653-bbe3-eafc5e28e265",
   "metadata": {},
   "outputs": [],
   "source": [
    "sample = sample.drop_duplicates(subset='acc_anon')"
   ]
  },
  {
   "cell_type": "code",
   "execution_count": 173,
   "id": "47233b98-e888-426a-93dc-015cac36e4c7",
   "metadata": {},
   "outputs": [
    {
     "data": {
      "text/plain": [
       "side\n",
       "R    1547\n",
       "L    1484\n",
       "Name: count, dtype: int64"
      ]
     },
     "execution_count": 173,
     "metadata": {},
     "output_type": "execute_result"
    }
   ],
   "source": [
    "sample['side'].value_counts()"
   ]
  },
  {
   "cell_type": "code",
   "execution_count": 150,
   "id": "a8c09cbf-6f99-40a7-94e8-83a1734eb359",
   "metadata": {},
   "outputs": [
    {
     "data": {
      "text/plain": [
       "(3031, 143)"
      ]
     },
     "execution_count": 150,
     "metadata": {},
     "output_type": "execute_result"
    }
   ],
   "source": [
    "sample.shape"
   ]
  },
  {
   "cell_type": "code",
   "execution_count": 153,
   "id": "9b042978-4c3f-4aaf-bfc9-d7a8dea5b8fb",
   "metadata": {},
   "outputs": [
    {
     "name": "stdout",
     "output_type": "stream",
     "text": [
      " NAME is :African American or Black with 1352)\n",
      "cancer_pred\n",
      "0    0.914941\n",
      "1    0.085059\n",
      "Name: proportion, dtype: float64\n",
      " NAME is :American Indian or Alaskan Native with 14)\n",
      "cancer_pred\n",
      "0    0.928571\n",
      "1    0.071429\n",
      "Name: proportion, dtype: float64\n",
      " NAME is :Asian with 182)\n",
      "cancer_pred\n",
      "0    0.956044\n",
      "1    0.043956\n",
      "Name: proportion, dtype: float64\n",
      " NAME is :Caucasian or White with 1173)\n",
      "cancer_pred\n",
      "0    0.920716\n",
      "1    0.079284\n",
      "Name: proportion, dtype: float64\n",
      " NAME is :Multiple with 16)\n",
      "cancer_pred\n",
      "0    0.875\n",
      "1    0.125\n",
      "Name: proportion, dtype: float64\n",
      " NAME is :Native Hawaiian or Other Pacific Islander with 40)\n",
      "cancer_pred\n",
      "0    0.925\n",
      "1    0.075\n",
      "Name: proportion, dtype: float64\n",
      " NAME is :Unknown, Unavailable or Unreported with 237)\n",
      "cancer_pred\n",
      "0    0.949367\n",
      "1    0.050633\n",
      "Name: proportion, dtype: float64\n"
     ]
    }
   ],
   "source": [
    "for  n, sub_d in sample.groupby(by='ETHNICITY_DESC'): \n",
    "    print(f\" NAME is :{n} with {sub_d.shape[0]})\") \n",
    "    print(sub_d['cancer_pred'].value_counts(normalize=True))"
   ]
  },
  {
   "cell_type": "code",
   "execution_count": 174,
   "id": "34d7ad5c-6e56-416e-95ee-427698c8d24d",
   "metadata": {},
   "outputs": [
    {
     "name": "stdout",
     "output_type": "stream",
     "text": [
      "covnext_output\tpredictions_left_black.csv   predictions_right_white.csv\n",
      "covnext_run2\tpredictions_left_white.csv\n",
      "covnext_run3\tpredictions_right_black.csv\n"
     ]
    }
   ],
   "source": [
    "!ls /shared"
   ]
  },
  {
   "cell_type": "code",
   "execution_count": 257,
   "id": "387ae160-3605-4c27-9391-22a26706d6c2",
   "metadata": {},
   "outputs": [
    {
     "name": "stderr",
     "output_type": "stream",
     "text": [
      "/tmp/ipykernel_96708/2379895787.py:1: DtypeWarning: Columns (66,82,114) have mixed types. Specify dtype option on import or set low_memory=False.\n",
      "  out=  pd.concat([pd.read_csv(e) for e in glob('/shared/predictions*') ]).reset_index()\n",
      "/tmp/ipykernel_96708/2379895787.py:1: DtypeWarning: Columns (57,66,76,77,78,79,83,84) have mixed types. Specify dtype option on import or set low_memory=False.\n",
      "  out=  pd.concat([pd.read_csv(e) for e in glob('/shared/predictions*') ]).reset_index()\n",
      "/tmp/ipykernel_96708/2379895787.py:1: DtypeWarning: Columns (37,66,84,86,112) have mixed types. Specify dtype option on import or set low_memory=False.\n",
      "  out=  pd.concat([pd.read_csv(e) for e in glob('/shared/predictions*') ]).reset_index()\n"
     ]
    }
   ],
   "source": [
    "out=  pd.concat([pd.read_csv(e) for e in glob('/shared/predictions*') ]).reset_index()"
   ]
  },
  {
   "cell_type": "code",
   "execution_count": 258,
   "id": "478fad9f-794c-4566-aab2-3e77f513ed53",
   "metadata": {},
   "outputs": [],
   "source": [
    "from tableone import TableOne"
   ]
  },
  {
   "cell_type": "code",
   "execution_count": 265,
   "id": "e04413ad-5a53-483f-96a8-93e1670e079b",
   "metadata": {},
   "outputs": [],
   "source": [
    "\n",
    "columns = ['ETHNICITY_DESC','path_severity_bin','asses']"
   ]
  },
  {
   "cell_type": "code",
   "execution_count": 266,
   "id": "ac01b8d9-525a-48b8-960f-49eef11f7405",
   "metadata": {},
   "outputs": [
    {
     "data": {
      "text/html": [
       "<div>\n",
       "<style scoped>\n",
       "    .dataframe tbody tr th:only-of-type {\n",
       "        vertical-align: middle;\n",
       "    }\n",
       "\n",
       "    .dataframe tbody tr th {\n",
       "        vertical-align: top;\n",
       "    }\n",
       "\n",
       "    .dataframe thead th {\n",
       "        text-align: right;\n",
       "    }\n",
       "</style>\n",
       "<table border=\"1\" class=\"dataframe\">\n",
       "  <thead>\n",
       "    <tr style=\"text-align: right;\">\n",
       "      <th></th>\n",
       "      <th></th>\n",
       "      <th>Missing</th>\n",
       "      <th>Overall</th>\n",
       "    </tr>\n",
       "  </thead>\n",
       "  <tbody>\n",
       "    <tr>\n",
       "      <th>n</th>\n",
       "      <th></th>\n",
       "      <td></td>\n",
       "      <td>7728</td>\n",
       "    </tr>\n",
       "    <tr>\n",
       "      <th rowspan=\"2\" valign=\"top\">ETHNICITY_DESC, n (%)</th>\n",
       "      <th>African American or Black</th>\n",
       "      <td>0</td>\n",
       "      <td>3869 (50.1)</td>\n",
       "    </tr>\n",
       "    <tr>\n",
       "      <th>Caucasian or White</th>\n",
       "      <td></td>\n",
       "      <td>3859 (49.9)</td>\n",
       "    </tr>\n",
       "    <tr>\n",
       "      <th rowspan=\"2\" valign=\"top\">path_severity_bin, n (%)</th>\n",
       "      <th>0</th>\n",
       "      <td>0</td>\n",
       "      <td>7603 (98.4)</td>\n",
       "    </tr>\n",
       "    <tr>\n",
       "      <th>1</th>\n",
       "      <td></td>\n",
       "      <td>125 (1.6)</td>\n",
       "    </tr>\n",
       "    <tr>\n",
       "      <th rowspan=\"3\" valign=\"top\">asses, n (%)</th>\n",
       "      <th>A</th>\n",
       "      <td>0</td>\n",
       "      <td>4103 (53.1)</td>\n",
       "    </tr>\n",
       "    <tr>\n",
       "      <th>B</th>\n",
       "      <td></td>\n",
       "      <td>1815 (23.5)</td>\n",
       "    </tr>\n",
       "    <tr>\n",
       "      <th>N</th>\n",
       "      <td></td>\n",
       "      <td>1810 (23.4)</td>\n",
       "    </tr>\n",
       "  </tbody>\n",
       "</table>\n",
       "</div><br />"
      ],
      "text/plain": [
       "                                                   Missing      Overall\n",
       "n                                                                  7728\n",
       "ETHNICITY_DESC, n (%)    African American or Black       0  3869 (50.1)\n",
       "                         Caucasian or White                 3859 (49.9)\n",
       "path_severity_bin, n (%) 0                               0  7603 (98.4)\n",
       "                         1                                    125 (1.6)\n",
       "asses, n (%)             A                               0  4103 (53.1)\n",
       "                         B                                  1815 (23.5)\n",
       "                         N                                  1810 (23.4)"
      ]
     },
     "execution_count": 266,
     "metadata": {},
     "output_type": "execute_result"
    }
   ],
   "source": [
    "TableOne(out.drop_duplicates(subset=['acc_anon']),columns=columns,categorical=columns)"
   ]
  },
  {
   "cell_type": "code",
   "execution_count": null,
   "id": "864c9824-6659-4c7c-b026-93f213caffc7",
   "metadata": {},
   "outputs": [],
   "source": [
    "TableOne(out.drop_duplicates(subset=['acc_anon']),columns=columns,categorical=columns)"
   ]
  },
  {
   "cell_type": "code",
   "execution_count": 239,
   "id": "ae9ff205-ecdb-4f1b-8a78-5b4d6e52d30f",
   "metadata": {},
   "outputs": [],
   "source": [
    "import seaborn as sns"
   ]
  },
  {
   "cell_type": "code",
   "execution_count": 231,
   "id": "e94fef42-d1f2-46c4-a95a-6091e9210662",
   "metadata": {},
   "outputs": [],
   "source": [
    "import numpy as np \n",
    "\n",
    "#out = out[np.logical_and(out['total_L_find']==1.0,out['tissueden']==3.0)]"
   ]
  },
  {
   "cell_type": "code",
   "execution_count": 282,
   "id": "7aed232b-d950-40c9-aadd-3500a67c1dc9",
   "metadata": {},
   "outputs": [],
   "source": [
    "sub_d = out[['y_hat','ETHNICITY_DESC','path_severity_bin']].copy()"
   ]
  },
  {
   "cell_type": "code",
   "execution_count": 283,
   "id": "9573ff42-37f7-4337-a859-29d1c448b5a9",
   "metadata": {},
   "outputs": [],
   "source": [
    "sub_d.columns = ['score','RACE','label_value']"
   ]
  },
  {
   "cell_type": "code",
   "execution_count": 284,
   "id": "1c31e2ab-f4e4-4168-aace-a8207aabc6f1",
   "metadata": {},
   "outputs": [],
   "source": [
    "from aequitas.preprocessing import preprocess_input_df\n",
    "from aequitas.group import Group\n",
    "from aequitas.plotting import Plot\n",
    "from aequitas.bias import Bias\n",
    "df, _ = preprocess_input_df(sub_d)"
   ]
  },
  {
   "cell_type": "code",
   "execution_count": 285,
   "id": "aae984fa-f591-433a-af6f-202520aef82b",
   "metadata": {},
   "outputs": [
    {
     "name": "stdout",
     "output_type": "stream",
     "text": [
      "get_disparity_predefined_group()\n"
     ]
    },
    {
     "data": {
      "text/html": [
       "<div>\n",
       "<style scoped>\n",
       "    .dataframe tbody tr th:only-of-type {\n",
       "        vertical-align: middle;\n",
       "    }\n",
       "\n",
       "    .dataframe tbody tr th {\n",
       "        vertical-align: top;\n",
       "    }\n",
       "\n",
       "    .dataframe thead th {\n",
       "        text-align: right;\n",
       "    }\n",
       "</style>\n",
       "<table border=\"1\" class=\"dataframe\">\n",
       "  <thead>\n",
       "    <tr style=\"text-align: right;\">\n",
       "      <th></th>\n",
       "      <th>attribute_value</th>\n",
       "      <th>tpr</th>\n",
       "      <th>fpr</th>\n",
       "      <th>fnr</th>\n",
       "      <th>tnr</th>\n",
       "      <th>tpr_disparity</th>\n",
       "      <th>fpr_disparity</th>\n",
       "      <th>fnr_disparity</th>\n",
       "      <th>tnr_disparity</th>\n",
       "    </tr>\n",
       "  </thead>\n",
       "  <tbody>\n",
       "    <tr>\n",
       "      <th>0</th>\n",
       "      <td>African American or Black</td>\n",
       "      <td>0.344</td>\n",
       "      <td>0.038</td>\n",
       "      <td>0.656</td>\n",
       "      <td>0.962</td>\n",
       "      <td>0.779</td>\n",
       "      <td>1.232</td>\n",
       "      <td>1.175</td>\n",
       "      <td>0.993</td>\n",
       "    </tr>\n",
       "    <tr>\n",
       "      <th>1</th>\n",
       "      <td>Caucasian or White</td>\n",
       "      <td>0.441</td>\n",
       "      <td>0.031</td>\n",
       "      <td>0.559</td>\n",
       "      <td>0.969</td>\n",
       "      <td>1.000</td>\n",
       "      <td>1.000</td>\n",
       "      <td>1.000</td>\n",
       "      <td>1.000</td>\n",
       "    </tr>\n",
       "  </tbody>\n",
       "</table>\n",
       "</div>"
      ],
      "text/plain": [
       "             attribute_value    tpr    fpr    fnr    tnr  tpr_disparity  \\\n",
       "0  African American or Black  0.344  0.038  0.656  0.962          0.779   \n",
       "1         Caucasian or White  0.441  0.031  0.559  0.969          1.000   \n",
       "\n",
       "   fpr_disparity  fnr_disparity  tnr_disparity  \n",
       "0          1.232          1.175          0.993  \n",
       "1          1.000          1.000          1.000  "
      ]
     },
     "execution_count": 285,
     "metadata": {},
     "output_type": "execute_result"
    }
   ],
   "source": [
    "g = Group()\n",
    "x_tab,_ = g.get_crosstabs(df)\n",
    "aqp = Plot() \n",
    "b= Bias() \n",
    "bdf = b.get_disparity_predefined_groups(x_tab,original_df=sub_d,ref_groups_dict={'RACE':'Caucasian or White'},mask_significance=False)\n",
    "sub= bdf[['attribute_value','tpr','fpr','fnr','tnr','tpr_disparity','fpr_disparity','fnr_disparity','tnr_disparity']].copy()\n",
    "sub.round(3)"
   ]
  },
  {
   "cell_type": "code",
   "execution_count": 286,
   "id": "71dc372c-9d4b-4b97-a9a7-68080f247401",
   "metadata": {},
   "outputs": [
    {
     "data": {
      "text/html": [
       "<div>\n",
       "<style scoped>\n",
       "    .dataframe tbody tr th:only-of-type {\n",
       "        vertical-align: middle;\n",
       "    }\n",
       "\n",
       "    .dataframe tbody tr th {\n",
       "        vertical-align: top;\n",
       "    }\n",
       "\n",
       "    .dataframe thead th {\n",
       "        text-align: right;\n",
       "    }\n",
       "</style>\n",
       "<table border=\"1\" class=\"dataframe\">\n",
       "  <thead>\n",
       "    <tr style=\"text-align: right;\">\n",
       "      <th></th>\n",
       "      <th>attribute_value</th>\n",
       "      <th>tpr</th>\n",
       "      <th>fpr</th>\n",
       "      <th>fnr</th>\n",
       "      <th>tnr</th>\n",
       "      <th>tpr_disparity</th>\n",
       "      <th>fpr_disparity</th>\n",
       "      <th>fnr_disparity</th>\n",
       "      <th>tnr_disparity</th>\n",
       "    </tr>\n",
       "  </thead>\n",
       "  <tbody>\n",
       "    <tr>\n",
       "      <th>0</th>\n",
       "      <td>African American or Black</td>\n",
       "      <td>0.344</td>\n",
       "      <td>0.038</td>\n",
       "      <td>0.656</td>\n",
       "      <td>0.962</td>\n",
       "      <td>0.779</td>\n",
       "      <td>1.232</td>\n",
       "      <td>1.175</td>\n",
       "      <td>0.993</td>\n",
       "    </tr>\n",
       "    <tr>\n",
       "      <th>1</th>\n",
       "      <td>Caucasian or White</td>\n",
       "      <td>0.441</td>\n",
       "      <td>0.031</td>\n",
       "      <td>0.559</td>\n",
       "      <td>0.969</td>\n",
       "      <td>1.000</td>\n",
       "      <td>1.000</td>\n",
       "      <td>1.000</td>\n",
       "      <td>1.000</td>\n",
       "    </tr>\n",
       "  </tbody>\n",
       "</table>\n",
       "</div>"
      ],
      "text/plain": [
       "             attribute_value    tpr    fpr    fnr    tnr  tpr_disparity  \\\n",
       "0  African American or Black  0.344  0.038  0.656  0.962          0.779   \n",
       "1         Caucasian or White  0.441  0.031  0.559  0.969          1.000   \n",
       "\n",
       "   fpr_disparity  fnr_disparity  tnr_disparity  \n",
       "0          1.232          1.175          0.993  \n",
       "1          1.000          1.000          1.000  "
      ]
     },
     "execution_count": 286,
     "metadata": {},
     "output_type": "execute_result"
    }
   ],
   "source": [
    "sub.round(3)"
   ]
  }
 ],
 "metadata": {
  "kernelspec": {
   "display_name": "detect",
   "language": "python",
   "name": "detect"
  },
  "language_info": {
   "codemirror_mode": {
    "name": "ipython",
    "version": 3
   },
   "file_extension": ".py",
   "mimetype": "text/x-python",
   "name": "python",
   "nbconvert_exporter": "python",
   "pygments_lexer": "ipython3",
   "version": "3.8.0"
  }
 },
 "nbformat": 4,
 "nbformat_minor": 5
}
